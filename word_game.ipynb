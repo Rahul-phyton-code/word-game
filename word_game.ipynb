{
  "nbformat": 4,
  "nbformat_minor": 0,
  "metadata": {
    "colab": {
      "provenance": [],
      "authorship_tag": "ABX9TyM34jbf5FiRN7IZW68KuvAt",
      "include_colab_link": true
    },
    "kernelspec": {
      "name": "python3",
      "display_name": "Python 3"
    },
    "language_info": {
      "name": "python"
    }
  },
  "cells": [
    {
      "cell_type": "markdown",
      "metadata": {
        "id": "view-in-github",
        "colab_type": "text"
      },
      "source": [
        "<a href=\"https://colab.research.google.com/github/Rahul-phyton-code/word-game/blob/main/word_game.ipynb\" target=\"_parent\"><img src=\"https://colab.research.google.com/assets/colab-badge.svg\" alt=\"Open In Colab\"/></a>"
      ]
    },
    {
      "cell_type": "code",
      "source": [
        "import random\n",
        "\n",
        "punct = (\".\", \";\", \"!\", \"?\", \",\")\n",
        "count = 0\n",
        "new_word = \"\"\n",
        "\n",
        "inputfile = input(\"Enter input file name:\")\n",
        "\n",
        "with open(inputfile, 'r') as fin:\n",
        "\tfor line in fin.readlines(): # Read line by line in txt file\n",
        "\n",
        "\t\tfor word in line.split(): # Read word by word in each line\n",
        "\n",
        "\t\t\tif len(word) > 3: # If word length >3\n",
        "\n",
        "\t\t\t\t'''If word ends with punctuation\n",
        "\t\t\t\t\tRemove firstletter, lastletter and punctuation\n",
        "\t\t\t\t\tShuffle the words\n",
        "\t\t\t\t\tAdd the removed letters (first letter)\n",
        "\t\t\t\t\tAdd the removed letters (last letter)\n",
        "\t\t\t\t\tAdd the removed letters (punctuation mark)'''\n",
        "\n",
        "\t\t\t\tif word.endswith(punct):\n",
        "\t\t\t\t\tword1 = word[1:-2]\n",
        "\t\t\t\t\tword1 = random.sample(word1, len(word1))\n",
        "\t\t\t\t\tword1.insert(0, word[0])\n",
        "\t\t\t\t\tword1.append(word[-2])\n",
        "\t\t\t\t\tword1.append(word[-1])\n",
        "\n",
        "\t\t\t\t\t'''If there is no punctuation mark\n",
        "\t\t\t\t\tRemove first letter and last letter\n",
        "\t\t\t\t\tShuffle the word\n",
        "\t\t\t\t\tAdd the removed letters (first letter)\n",
        "\t\t\t\t\tAdd the removed letters (last letter)\n",
        "\t\t\t\t\tAppend the word and \" \" to the previous words'''\n",
        "\n",
        "\t\t\t\telse:\n",
        "\t\t\t\t\tword1 = word[1:-1]\n",
        "\t\t\t\t\tword1 = random.sample(word1, len(word1))\n",
        "\t\t\t\t\tword1.insert(0, word[0])\n",
        "\t\t\t\t\tword1.append(word[-1])\n",
        "\t\t\t\t\tnew_word = new_word + ''.join(word1) + \" \"\n",
        "\n",
        "\t\t\t'''If word length <3\n",
        "\t\t\t\tjust append the word and \" \" to the previous words'''\n",
        "\n",
        "\t\telse:\n",
        "\t\t\tnew_word = new_word + word + \" \"\n",
        "\n",
        "\t\t# \"Append to <filename>Scrambled.txt\"\n",
        "\n",
        "with open((inputfile[:-4] + \"Scrambled.txt\"), 'a+') as fout:\n",
        "\tfout.write(new_word + \"\\n\")\n",
        "\n",
        "new_word = \"\"\n"
      ],
      "metadata": {
        "id": "ogZlfa2N0EXs"
      },
      "execution_count": null,
      "outputs": []
    }
  ]
}